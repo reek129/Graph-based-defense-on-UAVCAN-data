{
 "cells": [
  {
   "cell_type": "code",
   "execution_count": 29,
   "metadata": {},
   "outputs": [],
   "source": [
    "import pandas as pd\n",
    "import networkx as nx\n",
    "import torch\n",
    "from torch_geometric.data import Data, DataLoader\n",
    "from torch_geometric.nn import SAGEConv\n",
    "from torch.nn import Linear\n",
    "import torch.nn.functional as F\n",
    "from torch_geometric.utils import from_networkx\n",
    "from sklearn.metrics import confusion_matrix, classification_report\n",
    "import os\n",
    "from tqdm import tqdm\n",
    "import joblib\n",
    "import matplotlib.pyplot as plt"
   ]
  },
  {
   "cell_type": "code",
   "execution_count": 30,
   "metadata": {},
   "outputs": [],
   "source": [
    "data_path = 'stage3_data_cleaning/v2/type1_label_merged_final_decoded_clean3.xlsx'\n",
    "data = pd.read_excel(data_path)\n",
    "data['can_id'] = data['can_id'].astype(str)"
   ]
  },
  {
   "cell_type": "code",
   "execution_count": 31,
   "metadata": {},
   "outputs": [
    {
     "data": {
      "text/html": [
       "<div>\n",
       "<style scoped>\n",
       "    .dataframe tbody tr th:only-of-type {\n",
       "        vertical-align: middle;\n",
       "    }\n",
       "\n",
       "    .dataframe tbody tr th {\n",
       "        vertical-align: top;\n",
       "    }\n",
       "\n",
       "    .dataframe thead th {\n",
       "        text-align: right;\n",
       "    }\n",
       "</style>\n",
       "<table border=\"1\" class=\"dataframe\">\n",
       "  <thead>\n",
       "    <tr style=\"text-align: right;\">\n",
       "      <th></th>\n",
       "      <th>label</th>\n",
       "      <th>timestamp</th>\n",
       "      <th>can_id</th>\n",
       "      <th>data_length</th>\n",
       "      <th>source_node_id_decimal</th>\n",
       "      <th>service_flag</th>\n",
       "      <th>priority</th>\n",
       "      <th>message_type_decimal</th>\n",
       "      <th>destination_node_id_decimal</th>\n",
       "      <th>request_or_response</th>\n",
       "      <th>...</th>\n",
       "      <th>end_of_message</th>\n",
       "      <th>single_message_frame</th>\n",
       "      <th>transfer_ID</th>\n",
       "      <th>effective_data_0</th>\n",
       "      <th>effective_data_1</th>\n",
       "      <th>effective_data_2</th>\n",
       "      <th>effective_data_3</th>\n",
       "      <th>effective_data_4</th>\n",
       "      <th>effective_data_5</th>\n",
       "      <th>effective_data_6</th>\n",
       "    </tr>\n",
       "  </thead>\n",
       "  <tbody>\n",
       "    <tr>\n",
       "      <th>0</th>\n",
       "      <td>0</td>\n",
       "      <td>0.000000</td>\n",
       "      <td>10015501</td>\n",
       "      <td>8</td>\n",
       "      <td>1</td>\n",
       "      <td>0</td>\n",
       "      <td>16</td>\n",
       "      <td>341</td>\n",
       "      <td>-99</td>\n",
       "      <td>-99</td>\n",
       "      <td>...</td>\n",
       "      <td>1</td>\n",
       "      <td>1</td>\n",
       "      <td>0</td>\n",
       "      <td>0</td>\n",
       "      <td>0</td>\n",
       "      <td>0</td>\n",
       "      <td>0</td>\n",
       "      <td>8</td>\n",
       "      <td>0</td>\n",
       "      <td>0</td>\n",
       "    </tr>\n",
       "    <tr>\n",
       "      <th>1</th>\n",
       "      <td>0</td>\n",
       "      <td>0.192053</td>\n",
       "      <td>104E2001</td>\n",
       "      <td>2</td>\n",
       "      <td>1</td>\n",
       "      <td>0</td>\n",
       "      <td>16</td>\n",
       "      <td>20000</td>\n",
       "      <td>-99</td>\n",
       "      <td>-99</td>\n",
       "      <td>...</td>\n",
       "      <td>1</td>\n",
       "      <td>1</td>\n",
       "      <td>0</td>\n",
       "      <td>0</td>\n",
       "      <td>-199</td>\n",
       "      <td>-199</td>\n",
       "      <td>-199</td>\n",
       "      <td>-199</td>\n",
       "      <td>-199</td>\n",
       "      <td>-199</td>\n",
       "    </tr>\n",
       "    <tr>\n",
       "      <th>2</th>\n",
       "      <td>0</td>\n",
       "      <td>0.192335</td>\n",
       "      <td>1F043901</td>\n",
       "      <td>8</td>\n",
       "      <td>1</td>\n",
       "      <td>0</td>\n",
       "      <td>31</td>\n",
       "      <td>1081</td>\n",
       "      <td>-99</td>\n",
       "      <td>-99</td>\n",
       "      <td>...</td>\n",
       "      <td>0</td>\n",
       "      <td>0</td>\n",
       "      <td>0</td>\n",
       "      <td>0</td>\n",
       "      <td>0</td>\n",
       "      <td>0</td>\n",
       "      <td>246</td>\n",
       "      <td>0</td>\n",
       "      <td>-199</td>\n",
       "      <td>-199</td>\n",
       "    </tr>\n",
       "    <tr>\n",
       "      <th>3</th>\n",
       "      <td>0</td>\n",
       "      <td>0.192504</td>\n",
       "      <td>1F043901</td>\n",
       "      <td>8</td>\n",
       "      <td>1</td>\n",
       "      <td>0</td>\n",
       "      <td>31</td>\n",
       "      <td>1081</td>\n",
       "      <td>-99</td>\n",
       "      <td>-99</td>\n",
       "      <td>...</td>\n",
       "      <td>0</td>\n",
       "      <td>0</td>\n",
       "      <td>0</td>\n",
       "      <td>0</td>\n",
       "      <td>248</td>\n",
       "      <td>0</td>\n",
       "      <td>0</td>\n",
       "      <td>247</td>\n",
       "      <td>255</td>\n",
       "      <td>223</td>\n",
       "    </tr>\n",
       "    <tr>\n",
       "      <th>4</th>\n",
       "      <td>0</td>\n",
       "      <td>0.192637</td>\n",
       "      <td>1F043901</td>\n",
       "      <td>4</td>\n",
       "      <td>1</td>\n",
       "      <td>0</td>\n",
       "      <td>31</td>\n",
       "      <td>1081</td>\n",
       "      <td>-99</td>\n",
       "      <td>-99</td>\n",
       "      <td>...</td>\n",
       "      <td>1</td>\n",
       "      <td>0</td>\n",
       "      <td>0</td>\n",
       "      <td>254</td>\n",
       "      <td>0</td>\n",
       "      <td>0</td>\n",
       "      <td>-199</td>\n",
       "      <td>-199</td>\n",
       "      <td>-199</td>\n",
       "      <td>-199</td>\n",
       "    </tr>\n",
       "  </tbody>\n",
       "</table>\n",
       "<p>5 rows × 22 columns</p>\n",
       "</div>"
      ],
      "text/plain": [
       "   label  timestamp    can_id  data_length  source_node_id_decimal  \\\n",
       "0      0   0.000000  10015501            8                       1   \n",
       "1      0   0.192053  104E2001            2                       1   \n",
       "2      0   0.192335  1F043901            8                       1   \n",
       "3      0   0.192504  1F043901            8                       1   \n",
       "4      0   0.192637  1F043901            4                       1   \n",
       "\n",
       "   service_flag  priority  message_type_decimal  destination_node_id_decimal  \\\n",
       "0             0        16                   341                          -99   \n",
       "1             0        16                 20000                          -99   \n",
       "2             0        31                  1081                          -99   \n",
       "3             0        31                  1081                          -99   \n",
       "4             0        31                  1081                          -99   \n",
       "\n",
       "   request_or_response  ...  end_of_message  single_message_frame  \\\n",
       "0                  -99  ...               1                     1   \n",
       "1                  -99  ...               1                     1   \n",
       "2                  -99  ...               0                     0   \n",
       "3                  -99  ...               0                     0   \n",
       "4                  -99  ...               1                     0   \n",
       "\n",
       "   transfer_ID  effective_data_0  effective_data_1  effective_data_2  \\\n",
       "0            0                 0                 0                 0   \n",
       "1            0                 0              -199              -199   \n",
       "2            0                 0                 0                 0   \n",
       "3            0                 0               248                 0   \n",
       "4            0               254                 0                 0   \n",
       "\n",
       "   effective_data_3  effective_data_4  effective_data_5  effective_data_6  \n",
       "0                 0                 8                 0                 0  \n",
       "1              -199              -199              -199              -199  \n",
       "2               246                 0              -199              -199  \n",
       "3                 0               247               255               223  \n",
       "4              -199              -199              -199              -199  \n",
       "\n",
       "[5 rows x 22 columns]"
      ]
     },
     "execution_count": 31,
     "metadata": {},
     "output_type": "execute_result"
    }
   ],
   "source": [
    "data.head()"
   ]
  },
  {
   "cell_type": "code",
   "execution_count": 32,
   "metadata": {},
   "outputs": [],
   "source": [
    "import os\n",
    "output_dir = \"can_graphs/v8\"\n",
    "visualization_dir = os.path.join(output_dir, \"visualizations\")\n",
    "os.makedirs(output_dir, exist_ok=True)\n",
    "os.makedirs(visualization_dir, exist_ok=True)"
   ]
  },
  {
   "cell_type": "code",
   "execution_count": 33,
   "metadata": {},
   "outputs": [],
   "source": [
    "def create_graph(window_df):\n",
    "    G = nx.DiGraph()\n",
    "    index_tracker = {}\n",
    "    \n",
    "    for i in range(len(window_df) - 1):\n",
    "        node1 = window_df.iloc[i]['can_id']\n",
    "        node2 = window_df.iloc[i + 1]['can_id']\n",
    "        timestamp_diff = window_df.iloc[i + 1]['timestamp'] - window_df.iloc[i]['timestamp']\n",
    "        label = window_df.iloc[i]['label']\n",
    "        transfer_id1 = window_df.iloc[i]['transfer_ID']\n",
    "        transfer_id2 = window_df.iloc[i + 1]['transfer_ID']\n",
    "        \n",
    "        if node1 != node2 or transfer_id1 != transfer_id2:  # Avoid self-loops\n",
    "            if G.has_edge(node1, node2):\n",
    "                G[node1][node2]['weight'] += timestamp_diff\n",
    "            else:\n",
    "                G.add_edge(node1, node2, weight=timestamp_diff)\n",
    "        \n",
    "        if node1 not in index_tracker:\n",
    "            index_tracker[node1] = []\n",
    "        index_tracker[node1].append((i, label))\n",
    "        \n",
    "        # if i == len(window_df)-1:\n",
    "        if node2 not in index_tracker:\n",
    "            index_tracker[node2] = []\n",
    "        index_tracker[node2].append((i, label))\n",
    "    \n",
    "    # print(index_tracker)\n",
    "    # index_tracker = {k: sorted(list(v)) for k, v in index_tracker.items()}\n",
    "    # print(index_tracker)\n",
    "    # Calculate PageRank and in-degree\n",
    "    pagerank = nx.pagerank(G)\n",
    "    indegree = dict(G.in_degree())\n",
    "    \n",
    "    for node in G.nodes:\n",
    "        G.nodes[node]['pagerank'] = pagerank.get(node, 0.0)\n",
    "        G.nodes[node]['indegree'] = indegree.get(node, 0)\n",
    "    \n",
    "    return G, index_tracker"
   ]
  },
  {
   "cell_type": "code",
   "execution_count": 34,
   "metadata": {},
   "outputs": [],
   "source": [
    "# Function to visualize the graph and save to file\n",
    "def visualize_graph(G, window_index):\n",
    "    pos = nx.spring_layout(G)\n",
    "    pagerank = nx.get_node_attributes(G, 'pagerank')\n",
    "    indegree = nx.get_node_attributes(G, 'indegree')\n",
    "    labels = {node: f'{node}\\nPR: {pagerank[node]:.2f}\\nInDeg: {indegree[node]}' for node in G.nodes()}\n",
    "    \n",
    "    plt.figure(figsize=(12, 8))\n",
    "    nx.draw(G, pos, with_labels=True, labels=labels, node_size=7000, node_color='skyblue', font_size=10, edge_color='gray')\n",
    "    plt.title(f\"Graph for Window {window_index}\")\n",
    "    output_path = os.path.join(visualization_dir, f'graph_window_{window_index}.png')\n",
    "    plt.savefig(output_path)\n",
    "    plt.close()"
   ]
  },
  {
   "cell_type": "code",
   "execution_count": 35,
   "metadata": {},
   "outputs": [],
   "source": [
    "\n",
    "def preprocess_data(data, window_size=100):\n",
    "    pyg_data_list = []\n",
    "    for window_start in tqdm(range(0, len(data), window_size)):\n",
    "        window_end = min(window_start + window_size, len(data))\n",
    "        window_data = data.iloc[window_start:window_end]\n",
    "        G, index_tracker = create_graph(window_data)\n",
    "        # break\n",
    "        # Convert networkx graph to PyG data object\n",
    "        pyg_data = from_networkx(G, group_node_attrs=['pagerank', 'indegree'])\n",
    "        \n",
    "        # Add labels to PyG data object\n",
    "        labels = []\n",
    "        for node in G.nodes:\n",
    "            # Use the most recent label for each node\n",
    "            labels.append(index_tracker[node][-1][1])\n",
    "        pyg_data.y = torch.tensor(labels, dtype=torch.long)\n",
    "\n",
    "        # Save the raw graph for later analysis\n",
    "        graph_path = os.path.join(output_dir, f'graph_window_{window_start // window_size}.gpickle')\n",
    "        # nx.write_gpickle(G, graph_path)\n",
    "        nx.write_graphml(G, graph_path)\n",
    "        \n",
    "        # Save the visualization of the graph\n",
    "        visualize_graph(G, window_start // window_size)\n",
    "        \n",
    "        \n",
    "        pyg_data_list.append(pyg_data)\n",
    "    \n",
    "    return pyg_data_list"
   ]
  },
  {
   "cell_type": "code",
   "execution_count": 44,
   "metadata": {},
   "outputs": [],
   "source": [
    "\n",
    "# Train the model\n",
    "def train_model(model, train_loader, optimizer, criterion, epochs=20):\n",
    "    model.train()\n",
    "    for epoch in range(epochs):\n",
    "        total_loss = 0\n",
    "        for data in train_loader:\n",
    "            optimizer.zero_grad()\n",
    "            out = model(data.x, data.edge_index)\n",
    "            loss = criterion(out, data.y)\n",
    "            loss.backward()\n",
    "            optimizer.step()\n",
    "            total_loss += loss.item()\n",
    "        print(f'Epoch {epoch + 1}, Loss: {total_loss / len(train_loader)}')\n",
    "\n",
    "# Evaluate the model\n",
    "def evaluate_model(model, test_loader):\n",
    "    model.eval()\n",
    "    y_true = []\n",
    "    y_pred = []\n",
    "    for data in test_loader:\n",
    "        out = model(data.x, data.edge_index)\n",
    "        pred = out.argmax(dim=1)\n",
    "        y_true.extend(data.y.tolist())\n",
    "        y_pred.extend(pred.tolist())\n",
    "    \n",
    "    cm = confusion_matrix(y_true, y_pred)\n",
    "    report = classification_report(y_true, y_pred,output_dict=True)\n",
    "    return cm, report\n",
    "\n",
    "# Save the model\n",
    "def save_model(model, path):\n",
    "    torch.save(model.state_dict(), path)"
   ]
  },
  {
   "cell_type": "code",
   "execution_count": 37,
   "metadata": {},
   "outputs": [],
   "source": [
    "class EGraphSAGE(torch.nn.Module):\n",
    "    def __init__(self, in_channels, hidden_channels, out_channels):\n",
    "        super(EGraphSAGE, self).__init__()\n",
    "        self.conv1 = SAGEConv(in_channels, hidden_channels)\n",
    "        self.conv2 = SAGEConv(hidden_channels, hidden_channels)\n",
    "        self.lin = Linear(hidden_channels, out_channels)\n",
    "\n",
    "    def forward(self, x, edge_index):\n",
    "        x = self.conv1(x, edge_index)\n",
    "        x = F.relu(x)\n",
    "        x = F.dropout(x, p=0.5, training=self.training)\n",
    "        x = self.conv2(x, edge_index)\n",
    "        x = self.lin(x)\n",
    "        return F.log_softmax(x, dim=-1)\n"
   ]
  },
  {
   "cell_type": "code",
   "execution_count": 38,
   "metadata": {},
   "outputs": [
    {
     "name": "stderr",
     "output_type": "stream",
     "text": [
      "100%|██████████| 2079/2079 [02:54<00:00, 11.92it/s]\n"
     ]
    }
   ],
   "source": [
    "pyg_data_list = preprocess_data(data)"
   ]
  },
  {
   "cell_type": "code",
   "execution_count": 39,
   "metadata": {},
   "outputs": [
    {
     "name": "stderr",
     "output_type": "stream",
     "text": [
      "c:\\Users\\Reek\\anaconda3\\envs\\uavcan_v4\\Lib\\site-packages\\torch_geometric\\deprecation.py:26: UserWarning: 'data.DataLoader' is deprecated, use 'loader.DataLoader' instead\n",
      "  warnings.warn(out)\n"
     ]
    }
   ],
   "source": [
    "train_size = int(0.7 * len(pyg_data_list))\n",
    "train_data = pyg_data_list[:train_size]\n",
    "test_data = pyg_data_list[train_size:]\n",
    "\n",
    "train_loader = DataLoader(train_data, batch_size=32, shuffle=True)\n",
    "test_loader = DataLoader(test_data, batch_size=32, shuffle=False)\n",
    "\n"
   ]
  },
  {
   "cell_type": "code",
   "execution_count": null,
   "metadata": {},
   "outputs": [],
   "source": []
  },
  {
   "cell_type": "code",
   "execution_count": 40,
   "metadata": {},
   "outputs": [],
   "source": [
    "# Model initialization\n",
    "model = EGraphSAGE(in_channels=2, hidden_channels=128, out_channels=2)\n",
    "optimizer = torch.optim.Adam(model.parameters(), lr=0.001)\n",
    "criterion = torch.nn.CrossEntropyLoss()"
   ]
  },
  {
   "cell_type": "code",
   "execution_count": 41,
   "metadata": {},
   "outputs": [
    {
     "name": "stdout",
     "output_type": "stream",
     "text": [
      "Epoch 1, Loss: 0.3265642876858297\n",
      "Epoch 2, Loss: 0.24534739780685175\n",
      "Epoch 3, Loss: 0.22238780655290769\n",
      "Epoch 4, Loss: 0.22390729885386385\n",
      "Epoch 5, Loss: 0.222973865011464\n",
      "Epoch 6, Loss: 0.21619846639425858\n",
      "Epoch 7, Loss: 0.2178439812167831\n",
      "Epoch 8, Loss: 0.21164145320653915\n",
      "Epoch 9, Loss: 0.2077532358791517\n",
      "Epoch 10, Loss: 0.2064644245673781\n",
      "Epoch 11, Loss: 0.21197256397293962\n",
      "Epoch 12, Loss: 0.2121329678465491\n",
      "Epoch 13, Loss: 0.20609567460158598\n",
      "Epoch 14, Loss: 0.2078935478044593\n",
      "Epoch 15, Loss: 0.20318811500202055\n",
      "Epoch 16, Loss: 0.2009108589719171\n",
      "Epoch 17, Loss: 0.2017851961047753\n",
      "Epoch 18, Loss: 0.20278253082347952\n",
      "Epoch 19, Loss: 0.20055269498540007\n",
      "Epoch 20, Loss: 0.19804564118385315\n"
     ]
    }
   ],
   "source": [
    "train_model(model, train_loader, optimizer, criterion)"
   ]
  },
  {
   "cell_type": "code",
   "execution_count": 45,
   "metadata": {},
   "outputs": [
    {
     "name": "stdout",
     "output_type": "stream",
     "text": [
      "Confusion Matrix:\n",
      " [[1135  118]\n",
      " [  62  322]]\n",
      "Classification Report:\n",
      " {'0': {'precision': 0.948203842940685, 'recall': 0.9058260175578612, 'f1-score': 0.926530612244898, 'support': 1253.0}, '1': {'precision': 0.7318181818181818, 'recall': 0.8385416666666666, 'f1-score': 0.7815533980582524, 'support': 384.0}, 'accuracy': 0.8900427611484423, 'macro avg': {'precision': 0.8400110123794334, 'recall': 0.8721838421122639, 'f1-score': 0.8540420051515751, 'support': 1637.0}, 'weighted avg': {'precision': 0.8974450806492731, 'recall': 0.8900427611484423, 'f1-score': 0.8925225180190751, 'support': 1637.0}}\n"
     ]
    }
   ],
   "source": [
    "cm, report = evaluate_model(model, test_loader)\n",
    "print('Confusion Matrix:\\n', cm)\n",
    "print('Classification Report:\\n', report)"
   ]
  },
  {
   "cell_type": "code",
   "execution_count": 46,
   "metadata": {},
   "outputs": [
    {
     "data": {
      "text/plain": [
       "0.8900427611484423"
      ]
     },
     "execution_count": 46,
     "metadata": {},
     "output_type": "execute_result"
    }
   ],
   "source": [
    "report[\"accuracy\"]"
   ]
  },
  {
   "cell_type": "code",
   "execution_count": null,
   "metadata": {},
   "outputs": [],
   "source": []
  },
  {
   "cell_type": "code",
   "execution_count": 27,
   "metadata": {},
   "outputs": [],
   "source": [
    "save_model(model, os.path.join(output_dir, 'sageConv_model_probalistic_label.pth'))"
   ]
  },
  {
   "cell_type": "code",
   "execution_count": null,
   "metadata": {},
   "outputs": [],
   "source": []
  },
  {
   "cell_type": "code",
   "execution_count": null,
   "metadata": {},
   "outputs": [],
   "source": []
  }
 ],
 "metadata": {
  "kernelspec": {
   "display_name": "uavcan_v4",
   "language": "python",
   "name": "python3"
  },
  "language_info": {
   "codemirror_mode": {
    "name": "ipython",
    "version": 3
   },
   "file_extension": ".py",
   "mimetype": "text/x-python",
   "name": "python",
   "nbconvert_exporter": "python",
   "pygments_lexer": "ipython3",
   "version": "3.11.9"
  }
 },
 "nbformat": 4,
 "nbformat_minor": 2
}
